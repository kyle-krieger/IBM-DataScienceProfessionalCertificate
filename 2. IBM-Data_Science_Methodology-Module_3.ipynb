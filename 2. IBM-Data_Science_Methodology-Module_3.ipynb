{
  "metadata": {
    "language_info": {
      "codemirror_mode": {
        "name": "python",
        "version": 3
      },
      "file_extension": ".py",
      "mimetype": "text/x-python",
      "name": "python",
      "nbconvert_exporter": "python",
      "pygments_lexer": "ipython3",
      "version": "3.8"
    },
    "kernelspec": {
      "name": "python",
      "display_name": "Python (Pyodide)",
      "language": "python"
    }
  },
  "nbformat_minor": 4,
  "nbformat": 4,
  "cells": [
    {
      "cell_type": "markdown",
      "source": "In this Assignment, you will demonstrate your understanding of the data science methodology by applying it to a given problem. Pick one of the following topics to apply the data science methodology to:\n\n    Emails\n\n    Hospitals\n\n    Credit Cards\n\nYou will have to play the role of the client as well as the data scientist to come up with a problem that is more specific but related to these topics.",
      "metadata": {}
    },
    {
      "cell_type": "markdown",
      "source": "# IBM-Data Science \n## Methodology Module 3 Submission\n\n> Topic: *Emails*\n\n### **Business Understanding**\n\n#### *Client*\n\n\"we are recieving numerous emails requesting quotes for our services, can you determine what emails are legitimate?\"\n\n\n#### *Data Scientist*\n\n- The client is having issues determining what emails are human generated vs what emails are spam sent from bots.\n\n- The question needing solved: \"is an inbound email fake or real?\n\n### **Analytical Approach**\n\n- The customer needs a boolean answer; true or false, as to whether an email is considered spam or legit.\n\n- Building a classification model will satisfy this request.\n\n### **Data Requirements**\n\n- To create the classification model I will need historical data in the form of prior emails sent to the client as well as a classification as to the legitimacy of them. This should include meta data, email subject, email sender, email contents, and a description of the success of the service (i.e. \"service successful,\" \"contacted with no response,\" or \"invalid contact information\")\n\n### **Data Collection**\n\n- Utilize techniques such as descriptive statistics and data evaluation\n\n### **Data Preparation**\n\n- In this step we need to evaluate the different variables of our data in order to undestand it better. For example we would calculate univariate statistics of centeral tendencies such as mean or median and the correlation between variables represented in the Data Requirements stage. \n\n### **Model + Evaluation**\n\n- Lastly we create a classification model, evaluate the outcome and perform the corresponding changes untill we have a sufficent model to answer the client's request.\n\n#### Author: **Kyle Krieger**",
      "metadata": {}
    },
    {
      "cell_type": "code",
      "source": "",
      "metadata": {},
      "execution_count": null,
      "outputs": []
    }
  ]
}