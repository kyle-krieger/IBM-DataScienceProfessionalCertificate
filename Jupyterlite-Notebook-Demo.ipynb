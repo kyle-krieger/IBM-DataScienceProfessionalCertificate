{
  "metadata": {
    "language_info": {
      "codemirror_mode": {
        "name": "python",
        "version": 3
      },
      "file_extension": ".py",
      "mimetype": "text/x-python",
      "name": "python",
      "nbconvert_exporter": "python",
      "pygments_lexer": "ipython3",
      "version": "3.8"
    },
    "kernelspec": {
      "name": "python",
      "display_name": "Python (Pyodide)",
      "language": "python"
    }
  },
  "nbformat_minor": 4,
  "nbformat": 4,
  "cells": [
    {
      "cell_type": "markdown",
      "source": "# **Jupyterlite Notebook Demo**",
      "metadata": {}
    },
    {
      "cell_type": "markdown",
      "source": "## Introduction\n\n>Hey, I'm Kyle, a student in the field of Data Science. Pleased to meet you.",
      "metadata": {}
    },
    {
      "cell_type": "markdown",
      "source": "### Programming Languages used by Data Scientists:\n\n>*- Python.*<br>\n>*- R.*<br>\n>*- SQL.*<br>\n>*- Java.*<br>\n>*- Julia.*<br>\n>*- Scala.*<br>\n>*- C/C++.*<br>\n>*- JavaScript.*",
      "metadata": {}
    },
    {
      "cell_type": "markdown",
      "source": "### Programming Language libraries used by Data Scientists:\n\n>*- BeautifulSoup.*<br>\n>*- Bob.*<br>\n>*- Caffe2.*<br>\n>*- Chainer.*<br>\n>*- ELI5.*<br>\n>*- GGPLOT2.*<br>\n>*- Matplotlib.*<br>\n>*- NLTK.*<br>\n>*- NuPIC.*<br>\n>*- NumPy.*<br>\n>*- Pandas.*<br>\n>*- Pipenv.*<br>\n>*- PyBrain.*<br>\n>*- PyTorch.*<br>\n>*- Ramp.*<br>\n>*- SciKit-Learn.*<br>\n>*- SciPy.*<br>\n>*- Scrapy.*<br>\n>*- TensorFlow.*<br>\n>*- Tidyverse.*",
      "metadata": {}
    },
    {
      "cell_type": "code",
      "source": "%%html\n    <style>\n        table {float:left}\n    </style>",
      "metadata": {
        "tags": [],
        "jupyter": {
          "source_hidden": true
        },
        "trusted": true
      },
      "execution_count": 1,
      "outputs": [
        {
          "output_type": "display_data",
          "data": {
            "text/plain": "<IPython.core.display.HTML object>",
            "text/html": "<style>\ntable {float:left}\n</style>\n"
          },
          "metadata": {}
        }
      ]
    },
    {
      "cell_type": "markdown",
      "source": "| Data Science Tools |\n| :- |\n| RStudio | \n| Anaconda |\n| SAS |\n| Tableau |\n| Hadoop |\n| Excel |\n| SQL Server |",
      "metadata": {}
    },
    {
      "cell_type": "code",
      "source": "X = 10\nY = 3\nprint(X+Y);",
      "metadata": {
        "trusted": true
      },
      "execution_count": 7,
      "outputs": [
        {
          "name": "stdout",
          "text": "13\n",
          "output_type": "stream"
        }
      ]
    },
    {
      "cell_type": "code",
      "source": "print(2*5+2+1)",
      "metadata": {
        "trusted": true
      },
      "execution_count": 6,
      "outputs": [
        {
          "name": "stdout",
          "text": "13\n",
          "output_type": "stream"
        }
      ]
    },
    {
      "cell_type": "code",
      "source": "n = 1313\n\nhrs = int (n % 1440) // 60\nmins = int (n % 1440) % 60\n\nprint(\"Output:\", \"The starting value is\", hrs, \"hours and\", mins, \"minutes.\")",
      "metadata": {
        "tags": [],
        "trusted": true
      },
      "execution_count": 36,
      "outputs": [
        {
          "name": "stdout",
          "text": "Output: The starting value is 21 hours and 53 minutes.\n",
          "output_type": "stream"
        }
      ]
    },
    {
      "cell_type": "markdown",
      "source": "## Objectives for this demonstration (Excercise 10)\n\n>Exercise 2 - Create a markdown cell with the title of the notebook. (1 pt)<br>\nExercise 3 - Create a markdown cell for an introduction. (1 pt)<br>\nExercise 4 - Create a markdown cell to list data science languages. (3 pts)<br>\nExercise 5 - Create a markdown cell to list data science libraries. (3 pts)<br>\nExercise 6 - Create a markdown cell with a table of Data Science tools. (3 pts)<br>\nExercise 7 - Create a markdown cell introducing arithmetic expression examples. (1 pt)<br>\nExercise 8 - Create a code cell to multiply and add numbers. (2 pts)<br>\nExercise 9 - Create a code cell to convert minutes to hours. (2 pts)<br>\nExercise 10 -Insert a markdown cell to list Objectives. (3 pts)<br>\nExercise 11 - Create a markdown cell to indicate the Author’s name. (2 pts)<br>\nExercise 12 - Share your notebook through GitHub (3 pts)<br>\nExercise 13 - Take a screenshot of the first page of the notebook. (1 pt)",
      "metadata": {}
    },
    {
      "cell_type": "markdown",
      "source": "#### Authored by: *Kyle Krieger*",
      "metadata": {}
    }
  ]
}